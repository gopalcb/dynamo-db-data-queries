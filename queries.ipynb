{
 "cells": [
  {
   "cell_type": "markdown",
   "id": "50aa815f-f964-40e5-9afe-d3848f82da41",
   "metadata": {},
   "source": [
    "## Reading data from AWS DynamoDB using Python and Boto3\n",
    "<hr>\n",
    "\n"
   ]
  }
 ],
 "metadata": {
  "kernelspec": {
   "display_name": "Python 3 (ipykernel)",
   "language": "python",
   "name": "python3"
  },
  "language_info": {
   "codemirror_mode": {
    "name": "ipython",
    "version": 3
   },
   "file_extension": ".py",
   "mimetype": "text/x-python",
   "name": "python",
   "nbconvert_exporter": "python",
   "pygments_lexer": "ipython3",
   "version": "3.11.2"
  }
 },
 "nbformat": 4,
 "nbformat_minor": 5
}
